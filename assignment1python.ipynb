{
 "cells": [
  {
   "cell_type": "code",
   "execution_count": 1,
   "id": "e9034edb-de42-40a8-972e-93b46e1f9a65",
   "metadata": {},
   "outputs": [],
   "source": [
    "## Q.1 Which keyword is used to create a function? Create a function to return a list of odd numbers in the range of 1 to 25."
   ]
  },
  {
   "cell_type": "code",
   "execution_count": 14,
   "id": "f936be03-99f6-4c62-8560-19920a3ef65a",
   "metadata": {},
   "outputs": [
    {
     "name": "stdout",
     "output_type": "stream",
     "text": [
      "[1, 3, 5, 7, 9, 11, 13, 15, 17, 19, 21, 23, 25]\n"
     ]
    }
   ],
   "source": [
    "def odd_number():\n",
    "    return [num for num in range(1 , 26) if num % 2 != 0]\n",
    "\n",
    "print(odd_number())"
   ]
  },
  {
   "cell_type": "code",
   "execution_count": 15,
   "id": "18d55e67-46be-4fcd-baef-53547ed2080b",
   "metadata": {},
   "outputs": [],
   "source": [
    "## Q.2 Why *args and **kwargs is used some functions? Create a function each for *args and **kwargs to demonstrate their use."
   ]
  },
  {
   "cell_type": "code",
   "execution_count": 16,
   "id": "3e95e8ac-a9dd-416f-8266-c29e4988de2d",
   "metadata": {},
   "outputs": [
    {
     "name": "stdout",
     "output_type": "stream",
     "text": [
      "1\n",
      "2\n",
      "3\n",
      "a: 1\n",
      "b: 2\n",
      "c: 3\n"
     ]
    }
   ],
   "source": [
    "def args_function(*args):\n",
    "    for arg in args:\n",
    "        print(arg)\n",
    "        \n",
    "def kwargs_function(**kwargs):\n",
    "    for key, value in kwargs.items():\n",
    "        print(f\"{key}: {value}\")\n",
    "        \n",
    "args_function(1,2,3)\n",
    "kwargs_function(a=1 , b=2 , c=3)"
   ]
  },
  {
   "cell_type": "code",
   "execution_count": 17,
   "id": "0448a590-a52c-4351-9276-99c96e6b48eb",
   "metadata": {},
   "outputs": [],
   "source": [
    "## Q.3 What is an iterator in python? Name the method used to initialise thhe iterator object and the method used for iteration. Use these methods to print the first five elements of the given list [2,4,6,10,12,14,16,18,20]."
   ]
  },
  {
   "cell_type": "code",
   "execution_count": 18,
   "id": "21d3d831-2967-4939-a64c-33e3edc1fa3f",
   "metadata": {},
   "outputs": [
    {
     "name": "stdout",
     "output_type": "stream",
     "text": [
      "2\n",
      "4\n",
      "6\n",
      "8\n",
      "10\n"
     ]
    }
   ],
   "source": [
    "my_list = [2,4,6,8,10,12,14,16,18,20]\n",
    "my_iterator = iter(my_list)\n",
    "for _ in range(5):\n",
    "    print(next(my_iterator))"
   ]
  },
  {
   "cell_type": "code",
   "execution_count": 19,
   "id": "39c353d3-6cac-4207-919e-49f7f2b5394d",
   "metadata": {},
   "outputs": [],
   "source": [
    "## Q.4 What is a generator function in python? Why yield keyword is used? Give an example of a generator function."
   ]
  },
  {
   "cell_type": "code",
   "execution_count": 21,
   "id": "d872b086-200d-4e88-b9b4-89d192cc5e56",
   "metadata": {},
   "outputs": [
    {
     "name": "stdout",
     "output_type": "stream",
     "text": [
      "5\n",
      "4\n",
      "3\n",
      "2\n",
      "1\n"
     ]
    }
   ],
   "source": [
    "def countdown(n):\n",
    "    while n > 0:\n",
    "        yield n\n",
    "        n -= 1\n",
    "        \n",
    "for num in countdown(5):\n",
    "    print(num)"
   ]
  },
  {
   "cell_type": "code",
   "execution_count": 22,
   "id": "1c37dfe9-7d11-4566-b204-470803161ad0",
   "metadata": {},
   "outputs": [],
   "source": [
    "## Q.5 Create a generator function for prime numbers less than 1000. Use the next() method to print the first 20 prime numbers."
   ]
  },
  {
   "cell_type": "code",
   "execution_count": 24,
   "id": "4fc1c895-b793-4a23-a452-f7f36813d668",
   "metadata": {},
   "outputs": [
    {
     "name": "stdout",
     "output_type": "stream",
     "text": [
      "5\n",
      "7\n",
      "9\n",
      "11\n",
      "13\n",
      "15\n",
      "17\n",
      "19\n",
      "21\n",
      "23\n",
      "25\n",
      "27\n",
      "29\n",
      "31\n",
      "33\n",
      "35\n",
      "37\n",
      "39\n",
      "41\n",
      "43\n"
     ]
    }
   ],
   "source": [
    "def is_prime(num):\n",
    "    if num < 2:\n",
    "        return False\n",
    "    for i in range(2, int(num**0.5) + 1):\n",
    "        if num % i == 0:\n",
    "            return False \n",
    "        return True\n",
    "    \n",
    "def prime_generator():\n",
    "    num = 2\n",
    "    count = 0\n",
    "    while count < 20:\n",
    "        if is_prime(num):\n",
    "            yield num\n",
    "            count += 1\n",
    "        num += 1 \n",
    "\n",
    "prime_gen = prime_generator()\n",
    "for _ in range(20):\n",
    "    print(next(prime_gen))"
   ]
  },
  {
   "cell_type": "code",
   "execution_count": 25,
   "id": "fa519e5d-7345-40e2-b944-22e4ce401ec7",
   "metadata": {},
   "outputs": [],
   "source": [
    "## Q.6 Write a pythonn program to print the first 10 Fibonacci numbers using a while loop."
   ]
  },
  {
   "cell_type": "code",
   "execution_count": 26,
   "id": "eb2a3480-fc5c-49d6-a8f8-447ab30bafc6",
   "metadata": {},
   "outputs": [
    {
     "name": "stdout",
     "output_type": "stream",
     "text": [
      "0\n",
      "1\n",
      "1\n",
      "2\n",
      "3\n",
      "5\n",
      "8\n",
      "13\n",
      "21\n",
      "34\n"
     ]
    }
   ],
   "source": [
    "a, b = 0, 1\n",
    "count = 0\n",
    "while count < 10:\n",
    "    print(a)\n",
    "    a, b = b, a + b\n",
    "    count += 1"
   ]
  },
  {
   "cell_type": "code",
   "execution_count": 27,
   "id": "f990387f-083b-499b-b834-e22d88e5e3b8",
   "metadata": {},
   "outputs": [],
   "source": [
    "## Q.7 Write a list comprehension to iterate through the given string: 'pwskills'. Expected output:['p','w','s','k','i','l','l','s']."
   ]
  },
  {
   "cell_type": "code",
   "execution_count": 28,
   "id": "708344c3-a999-4241-b781-716bc814ea01",
   "metadata": {},
   "outputs": [
    {
     "name": "stdout",
     "output_type": "stream",
     "text": [
      "['p', 'w', 's', 'k', 'i', 'l', 'l', 's']\n"
     ]
    }
   ],
   "source": [
    "string = 'pwskills'\n",
    "result = [char for char in string]\n",
    "print(result)"
   ]
  },
  {
   "cell_type": "code",
   "execution_count": 29,
   "id": "83651e0f-6818-416d-a015-2d59abbf9c87",
   "metadata": {},
   "outputs": [],
   "source": [
    "## Q.8 Write a python program to check whether a given number is Palindrome or not usinng a while loop."
   ]
  },
  {
   "cell_type": "code",
   "execution_count": null,
   "id": "0c64d75e-9d03-4c8e-a0f5-11999e2fb320",
   "metadata": {},
   "outputs": [
    {
     "name": "stdin",
     "output_type": "stream",
     "text": [
      "Enter a number:  0\n"
     ]
    }
   ],
   "source": [
    "number = int(input(\"Enter a number: \"))\n",
    "temp = number\n",
    "reverse = o\n",
    "\n",
    "while temp != 0:\n",
    "    digit = temp % 10\n",
    "    reverse = reverse * 10 + digit\n",
    "    temp //= 10\n",
    "    \n",
    "if number == reverse:\n",
    "    print(\"Palindrome\")\n",
    "else:\n",
    "    print(\"Not Palindrome\")"
   ]
  },
  {
   "cell_type": "code",
   "execution_count": null,
   "id": "1d37c0b0-af4b-47e7-8075-cde342a16410",
   "metadata": {},
   "outputs": [],
   "source": [
    "## Q.9 Write a code to print odd numbers from 1 to 100 using list comprehension."
   ]
  },
  {
   "cell_type": "code",
   "execution_count": null,
   "id": "d553b639-3750-4dec-8124-78e3c02aeee3",
   "metadata": {},
   "outputs": [],
   "source": [
    "odd_numbers = [num for num in range (1, 101) if num % != 0]\n",
    "print(odd_numbers)"
   ]
  },
  {
   "cell_type": "code",
   "execution_count": null,
   "id": "a20e4e11-261f-49f0-895f-cb06feef2f11",
   "metadata": {},
   "outputs": [],
   "source": []
  }
 ],
 "metadata": {
  "kernelspec": {
   "display_name": "Python 3 (ipykernel)",
   "language": "python",
   "name": "python3"
  },
  "language_info": {
   "codemirror_mode": {
    "name": "ipython",
    "version": 3
   },
   "file_extension": ".py",
   "mimetype": "text/x-python",
   "name": "python",
   "nbconvert_exporter": "python",
   "pygments_lexer": "ipython3",
   "version": "3.10.8"
  }
 },
 "nbformat": 4,
 "nbformat_minor": 5
}
