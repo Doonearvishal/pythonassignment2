{
 "cells": [
  {
   "cell_type": "code",
   "execution_count": 3,
   "id": "f03f25ea-8a25-4c28-b7e1-1e9b4ff5b0be",
   "metadata": {},
   "outputs": [],
   "source": [
    "## Q.1 Create a python program to sort the given list of tuples based on integer value using a lambda funcion.\n",
    "#[('Sachin Tendulkar',34357),('Ricky Ponting',27483),('Jack kallis',25534),('Virat Kohli',24936)] "
   ]
  },
  {
   "cell_type": "code",
   "execution_count": 2,
   "id": "054dea8c-03e1-4e2a-b059-16a60a129ca8",
   "metadata": {},
   "outputs": [
    {
     "name": "stdout",
     "output_type": "stream",
     "text": [
      "[('Virat Kohli', 24936), ('Jack Kallis', 25534), ('Ricky Ponting', 27483), ('Sachin Tendulkar', 34357)]\n"
     ]
    }
   ],
   "source": [
    "data = [('Sachin Tendulkar' , 34357), ('Ricky Ponting' , 27483), ('Jack Kallis' , 25534), ('Virat Kohli' , 24936)]\n",
    "sorted_data = sorted(data, key=lambda x: x[1])\n",
    "print(sorted_data)"
   ]
  },
  {
   "cell_type": "code",
   "execution_count": 10,
   "id": "765ed9da-50f7-4aa0-872c-25b3b24b3e45",
   "metadata": {},
   "outputs": [],
   "source": [
    "##Q.2 Write a python program to find the squares of all the numbers in the given list of integers using lambda and map functions.\n",
    "#[1,2,3,4,5,6,7,8,9,10]"
   ]
  },
  {
   "cell_type": "code",
   "execution_count": 6,
   "id": "41fd7cef-4800-4d52-be92-9aca015b25e4",
   "metadata": {},
   "outputs": [
    {
     "name": "stdout",
     "output_type": "stream",
     "text": [
      "[1, 4, 9, 16, 25, 36, 49, 64, 81, 100]\n"
     ]
    }
   ],
   "source": [
    "numbers = [1,2,3,4,5,6,7,8,9,10]\n",
    "squares = list(map(lambda x: x**2, numbers))\n",
    "print(squares)"
   ]
  },
  {
   "cell_type": "code",
   "execution_count": 11,
   "id": "2346f1fc-6d47-473f-ae39-4c959ce54128",
   "metadata": {},
   "outputs": [],
   "source": [
    "## Q.3 Write a python program to convert the given list of integers into a tuple of strings. Use map and lambda functions\n",
    "\n",
    "# Given String:[1,2,3,4,5,6,7,8,9,10]\n",
    "# Expected output:('1','2','3','4','5','6','7'.'8','9','10')"
   ]
  },
  {
   "cell_type": "code",
   "execution_count": 12,
   "id": "1c8972d0-dc2a-46bf-b1ad-c0c70adf52e9",
   "metadata": {},
   "outputs": [
    {
     "name": "stdout",
     "output_type": "stream",
     "text": [
      "('1', '2', '3', '4', '5', '6', '7', '8', '9', '10')\n"
     ]
    }
   ],
   "source": [
    "numbers = [1,2,3,4,5,6,7,8,9,10]\n",
    "string_tuple = tuple(map(lambda x: str(x), numbers))\n",
    "print(string_tuple)"
   ]
  },
  {
   "cell_type": "code",
   "execution_count": 13,
   "id": "dc7ede02-9283-423a-8bbd-1cd039222881",
   "metadata": {},
   "outputs": [],
   "source": [
    "## Q.4 write a python program using reduce function to compute the product of a list containing numbers from 1 to 25."
   ]
  },
  {
   "cell_type": "code",
   "execution_count": 14,
   "id": "31fc30b1-3a2a-4728-a463-5a3fe275430b",
   "metadata": {},
   "outputs": [
    {
     "name": "stdout",
     "output_type": "stream",
     "text": [
      "15511210043330985984000000\n"
     ]
    }
   ],
   "source": [
    "from functools import reduce\n",
    "\n",
    "numbers = list(range(1, 26))\n",
    "product = reduce(lambda x, y: x * y, numbers)\n",
    "print(product)"
   ]
  },
  {
   "cell_type": "code",
   "execution_count": 15,
   "id": "a4e156dc-c48a-43a1-a102-ae63aef8d965",
   "metadata": {},
   "outputs": [],
   "source": [
    "## Q.5 Write a pyhon program to filter the numbers in a given list that are divisible by 2 and 3 using the filter function. \n",
    "\n",
    "#[2,3,6,9,27,60,90,120,55,46]"
   ]
  },
  {
   "cell_type": "code",
   "execution_count": null,
   "id": "a98ca96e-9762-4189-bee8-85dffaaac6cc",
   "metadata": {},
   "outputs": [],
   "source": [
    "numbers = [2,3,6,9,27,60,90,120,55,46]\n",
    "divisible_by_2_and_3 = list(filter(lambda x: x % 2 == 0 and X % 3 == 0, numbers))\n",
    "print(divisible_by_2_and_3)"
   ]
  },
  {
   "cell_type": "code",
   "execution_count": null,
   "id": "ad24f86f-4aa2-4d56-98e4-158f9e9fc583",
   "metadata": {},
   "outputs": [],
   "source": []
  }
 ],
 "metadata": {
  "kernelspec": {
   "display_name": "Python 3 (ipykernel)",
   "language": "python",
   "name": "python3"
  },
  "language_info": {
   "codemirror_mode": {
    "name": "ipython",
    "version": 3
   },
   "file_extension": ".py",
   "mimetype": "text/x-python",
   "name": "python",
   "nbconvert_exporter": "python",
   "pygments_lexer": "ipython3",
   "version": "3.10.8"
  }
 },
 "nbformat": 4,
 "nbformat_minor": 5
}
